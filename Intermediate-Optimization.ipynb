{
 "cells": [
  {
   "cell_type": "markdown",
   "metadata": {},
   "source": [
    "# Making Your Life Easier\n",
    "The last example was great but imagine a scenario where you have 12 (or 120!) variables you want to solve for. Typing out definitions for each of the variables and constraints individually would use up an enormous amount of time! Computers are supposed to make our lives **easier**, darnit!\n",
    "\n",
    "First off, let's do our usual initialization:"
   ]
  },
  {
   "cell_type": "code",
   "execution_count": null,
   "metadata": {},
   "outputs": [],
   "source": [
    "from gurobipy import *\n",
    "import matplotlib.pyplot as pyplot\n",
    "\n",
    "m = Model()"
   ]
  },
  {
   "cell_type": "markdown",
   "metadata": {},
   "source": [
    "---\n",
    "## What if I told you...\n",
    "there was an easier way?\n",
    "\n",
    "*The following code is just a bit of fun -- feel free to pay as little or as much attention to it as you want.*"
   ]
  },
  {
   "cell_type": "code",
   "execution_count": null,
   "metadata": {
    "scrolled": true
   },
   "outputs": [],
   "source": [
    "# Code gratefully stolen/adapted from\n",
    "# https://www.hackerearth.com/practice/notes/beautiful-python-a-simple-ascii-art-generator-from-images/\n",
    "\n",
    "from PIL import Image\n",
    "\n",
    "ASCII_CHARS = [ '#', '?', '%', '.', 'S', '+', '.', '*', ':', ',', '@']\n",
    "\n",
    "def scale_image(image, new_width=100):\n",
    "    \"\"\"Resizes an image preserving the aspect ratio.\n",
    "    \"\"\"\n",
    "    (original_width, original_height) = image.size\n",
    "    aspect_ratio = original_height/float(original_width)\n",
    "    new_height = int(aspect_ratio * new_width)\n",
    "\n",
    "    new_image = image.resize((new_width, new_height))\n",
    "    return new_image\n",
    "\n",
    "def convert_to_grayscale(image):\n",
    "    return image.convert('L')\n",
    "\n",
    "def map_pixels_to_ascii_chars(image, range_width=25):\n",
    "    \"\"\"Maps each pixel to an ascii char based on the range\n",
    "    in which it lies.\n",
    "\n",
    "    0-255 is divided into 11 ranges of 25 pixels each.\n",
    "    \"\"\"\n",
    "\n",
    "    pixels_in_image = list(image.getdata())\n",
    "    pixels_to_chars = [ASCII_CHARS[int(pixel_value/range_width)] for pixel_value in\n",
    "            pixels_in_image]\n",
    "\n",
    "    return \"\".join(pixels_to_chars)\n",
    "\n",
    "def convert_image_to_ascii(image, new_width=100):\n",
    "    image = scale_image(image)\n",
    "    image = convert_to_grayscale(image)\n",
    "\n",
    "    pixels_to_chars = map_pixels_to_ascii_chars(image)\n",
    "    len_pixels_to_chars = len(pixels_to_chars)\n",
    "\n",
    "    image_ascii = [pixels_to_chars[index: index + new_width] for index in\n",
    "            range(0, len_pixels_to_chars, new_width)]\n",
    "\n",
    "    return \"\\n\".join(image_ascii)\n",
    "\n",
    "def handle_image_conversion(image_filepath):\n",
    "    image = Image.open(image_filepath)\n",
    "\n",
    "    image_ascii = convert_image_to_ascii(image)\n",
    "    print(image_ascii)\n",
    "\n",
    "handle_image_conversion(\"morph.png\")"
   ]
  },
  {
   "cell_type": "markdown",
   "metadata": {},
   "source": [
    "## The problem\n",
    "This time we will be solving one of the problems you saw earlier in the course: the so-called **Model 3** problem:\n",
    "\n",
    "---\n",
    "\n",
    "The Northeast Tollway out of Chicago has a toll plaza with the following staffing demands during each 24-hour period: \n",
    "\n",
    "| Hours | Collectors Needed |\n",
    "|---|---|\n",
    "| 12-6 a.m. | 2 |\n",
    "| 6-10 a.m. | 8 |\n",
    "| 10 a.m. to noon | 4 |\n",
    "| noon to 4 p.m. | 3 |\n",
    "| 4-6 p.m. | 6 |\n",
    "| 6-10 p.m. | 5 |\n",
    "| 10 p.m. to midnight | 3 |\n",
    "\n",
    "Each collector works 4 hours, is off one hour, and then works another 4 hours. A collector can be started at any hour. Assume the objective is to minimize the number of collectors hired, formulate **and solve** the appropriate LP. \n",
    "\n",
    "---\n",
    "\n",
    "## The data\n",
    "The first thing to do is to declare some data structures that will contain our data. In a real-world situation we would have already collected some data and have it available to us (e.g. in a programmatically-generated data file or even better in a database).\n",
    "\n",
    "For this example we will just assume we've already extracted our data from our data source and have it ready to use."
   ]
  },
  {
   "cell_type": "code",
   "execution_count": null,
   "metadata": {},
   "outputs": [],
   "source": [
    "# We will use the convention that \n",
    "#     0  =>  midnight\n",
    "#     1  =>  1 a.m.\n",
    "#     ...\n",
    "#     12 =>  noon\n",
    "#     ...\n",
    "#     23 =>  11 p.m.\n",
    "\n",
    "# Setting this as a variable at the beginning makes it easier to change later if we want\n",
    "# to use a different number of possible starting times\n",
    "hours = range(24)\n",
    "\n",
    "# A function that returns the employees needed for a given hour.\n",
    "# Also good practice in using if/elif/else! :)\n",
    "def need(x):\n",
    "    # TODO\n",
    "    return 0\n",
    "\n",
    "# This creates a dictionary that contains the number of employees we need at any given time\n",
    "needed = { ... }\n",
    "\n",
    "# Usage: (number of employees needed at 2pm)\n",
    "print(...)\n",
    "# Usage: Pretty printing\n",
    "print(\"At hour %d we will need %d people on-staff.\" % ...)"
   ]
  },
  {
   "cell_type": "code",
   "execution_count": null,
   "metadata": {},
   "outputs": [],
   "source": [
    "# This array will be useful in setting up our constraints. \n",
    "# The (i,j)th entry is 0 or 1 depending on whether or not an employee\n",
    "# who started at hour i is still on-duty during hour j.\n",
    "\n",
    "# This function computes whether someone who started at i is around at j.\n",
    "def isAround(i,j):\n",
    "    ...\n",
    "\n",
    "# An array of dictionaries\n",
    "# onDuty[j] is a dictionary telling us whether i is working at hour j.\n",
    "onDuty = [...]\n",
    "\n",
    "# Usage: Is someone who started at 2am around at 7am?\n",
    "print(...)\n",
    "\n",
    "# Print it out so you can see \n",
    "for i in hours:\n",
    "    print([... for j in hours])"
   ]
  },
  {
   "cell_type": "markdown",
   "metadata": {},
   "source": [
    "---\n",
    "## Adding Variables\n",
    "Now that we have our data we want to add our (twelve) variables programmatically. Here's how we do that:"
   ]
  },
  {
   "cell_type": "code",
   "execution_count": null,
   "metadata": {},
   "outputs": [],
   "source": [
    "..."
   ]
  },
  {
   "cell_type": "markdown",
   "metadata": {},
   "source": [
    "---\n",
    "## Setting constraints\n",
    "Then we have to set our constraints -- we want to ensure that each of the hours is amply-staffed."
   ]
  },
  {
   "cell_type": "code",
   "execution_count": null,
   "metadata": {},
   "outputs": [],
   "source": [
    "# Add constraints\n",
    "...\n",
    "\n",
    "# Update model\n",
    "m.update()"
   ]
  },
  {
   "cell_type": "markdown",
   "metadata": {},
   "source": [
    "---\n",
    "## Set the objective and run!"
   ]
  },
  {
   "cell_type": "code",
   "execution_count": null,
   "metadata": {},
   "outputs": [],
   "source": [
    "# Set the objective\n",
    "...\n",
    "\n",
    "# Run!\n",
    "m.optimize()"
   ]
  },
  {
   "cell_type": "markdown",
   "metadata": {},
   "source": [
    "---\n",
    "## Examine our solution"
   ]
  },
  {
   "cell_type": "code",
   "execution_count": null,
   "metadata": {
    "scrolled": false
   },
   "outputs": [],
   "source": [
    "# It's a good practice to check whether the solution is an optimal one\n",
    "if m.status == GRB.Status.OPTIMAL:\n",
    "    print('Optimal Solution Found!\\n')\n",
    "    # Gets the final values from our variables\n",
    "    solution = m.getAttr('x', employeesStarting)\n",
    "    \n",
    "    # This value should be minimized\n",
    "    print('We need %d employees in total.\\n' % m.getAttr('ObjVal'))\n",
    "        \n",
    "    # Print our solution\n",
    "    print('Hour:\\t Employees Needed:')\n",
    "    for h in hours:\n",
    "        print('%d\\t %d' % (h, solution[h]))\n",
    "    \n",
    "    # Create a bar chart to demonstrate we have satisfied our constraints\n",
    "    \n",
    "    # Y-values\n",
    "    data = [0 for h in hours]\n",
    "    for h in hours:\n",
    "        for j in hours:\n",
    "            if onDuty[h][j]:\n",
    "                data[h] += solution[j]\n",
    "    neededList = [needed[i] for i in hours]\n",
    "    \n",
    "    # X-values\n",
    "    x1 = range(len(data))\n",
    "    x2 = [i+0.4 for i in x1]\n",
    "    \n",
    "    # Width of bar\n",
    "    w = 1/3\n",
    "    # Tell the plotter we want to add several graphs to the same plot\n",
    "    ax = pyplot.subplot(111)\n",
    "    ax.bar(x1, data,width=w,color='b',align='center')\n",
    "    ax.bar(x2, neededList,width=w,color='g',align='center')\n",
    "    \n",
    "    #Plot!\n",
    "    pyplot.show()\n",
    "else:\n",
    "    print(\"No optimal solution found!\")\n"
   ]
  }
 ],
 "metadata": {
  "kernelspec": {
   "display_name": "Python 3",
   "language": "python",
   "name": "python3"
  },
  "language_info": {
   "codemirror_mode": {
    "name": "ipython",
    "version": 3
   },
   "file_extension": ".py",
   "mimetype": "text/x-python",
   "name": "python",
   "nbconvert_exporter": "python",
   "pygments_lexer": "ipython3",
   "version": "3.6.4"
  }
 },
 "nbformat": 4,
 "nbformat_minor": 2
}
