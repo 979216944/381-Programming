{
 "cells": [
  {
   "cell_type": "markdown",
   "metadata": {},
   "source": [
    "# In Class Assignment\n",
    "Answer the questions below as well as you can using resources like the instructors, your classmates, and documentation you find online.\n",
    "\n",
    "You may find the following sites useful along the way:\n",
    "- [Python Documentation](https://docs.python.org/3/index.html)\n",
    "- [Gurobi Documentation](http://www.gurobi.com/documentation/8.1/refman/index.html)\n",
    "\n",
    "---\n",
    "The work you do here will constitute part of your grade, so make sure you understand and complete it!\n",
    "\n",
    "---"
   ]
  },
  {
   "cell_type": "markdown",
   "metadata": {},
   "source": [
    "## Python and Programming Fundamentals\n",
    "The first problems you are asked to solve will ask you to exercise your programming skills as well as your ability to look up how to do something you've never done before.\n",
    "### Question 1 - String manipulation\n",
    "Look up how you concatenate two strings in Python. That is, if you have \"abc\" and \"def\", how can you get the string \"abcdef\"?\n",
    "\n",
    "Let's say you want to automate generating variable names. You want every variable to be in the form **[color][digit][animal]** where each of the components come from the lists below. How can you create the variable names *programmatically*? \n",
    "\n",
    "Create a list of all your variable names below and print out the result."
   ]
  },
  {
   "cell_type": "code",
   "execution_count": null,
   "metadata": {},
   "outputs": [],
   "source": [
    "# Don't edit these lists -- these are what you have to work with.\n",
    "colors = ['red', 'blue', 'green']\n",
    "digits = list(range(10))\n",
    "animals = ['anteater', 'bluebird', 'salamander']\n",
    "\n",
    "# This is an empty list to fill with your variable names\n",
    "varNames = []\n",
    "\n",
    "# YOUR CODE HERE\n",
    "\n",
    "# Print out the variable names you've generated\n",
    "print(varNames)"
   ]
  },
  {
   "cell_type": "markdown",
   "metadata": {},
   "source": [
    "### Question 2 - Defining functions\n",
    "Define a function that takes in a list $[x_1,x_2,\\dots,x_n]$ (here $n$ is arbitray) and `return`s the sum\n",
    "$$\\sum_{i=1}^n i\\cdot x_i$$.\n",
    "\n",
    "Test your function by calling it on some sample data and `print`ing the result. Is it acting as it should?\n",
    "\n",
    "Try to figure out how to pass the $x_i$ as *parameters* instead of elements of a list. Notice you still need to allow for an arbitrary number of entries!"
   ]
  },
  {
   "cell_type": "code",
   "execution_count": null,
   "metadata": {},
   "outputs": [],
   "source": [
    "# Define your function below\n",
    "\n",
    "# Test your function on some input. Does it perform as expected?\n"
   ]
  },
  {
   "cell_type": "markdown",
   "metadata": {},
   "source": [
    "### Question 3 - Testing Results\n",
    "Say you are solving an LP in four variables $x_1,x_2,x_3,x_4$ given the constraints\n",
    "$$x_1+2x_2+3x_3+4x_4\\le 10$$\n",
    "$$3x_1-2x_2+2x_3-x_4\\le 4$$\n",
    "\n",
    "Define a function that accepts four values $(x_1,x_2,x_3,x_4)$ and determines if the values satisfy each of the constraints or not.  If the values do satisfy the constraints, determine if either constraint is binding.\n",
    "\n",
    "For instance, if your function name is `f` and you call `f(1,1,1,1)`, your program should print something like\n",
    "\n",
    "    Constraint 1 is binding.\n",
    "    Constraint 2 is not binding.\n",
    "\n",
    "If the given values do **not** form a feasible solution, you should print something to that effect."
   ]
  },
  {
   "cell_type": "code",
   "execution_count": null,
   "metadata": {},
   "outputs": [],
   "source": [
    "def f(x1, x2, x3, x4):\n",
    "    # Your code here\n",
    "    "
   ]
  },
  {
   "cell_type": "markdown",
   "metadata": {},
   "source": [
    "## A Simple LP\n",
    "### Question 4\n",
    "Use Gurobi to solve the following optimization problem:\n",
    "\n",
    "Maximize $x_1-2x_2-3x_3-x_4$ given the constraints\n",
    "$$x_1 -x_2-2x_3-x_4\\le 4$$\n",
    "$$2x_1+x_3-4x_4\\le 2$$\n",
    "$$-2x_1+x_2+x_4\\le 1$$\n",
    "\n",
    "Which of your constraints are binding?"
   ]
  },
  {
   "cell_type": "code",
   "execution_count": null,
   "metadata": {},
   "outputs": [],
   "source": [
    "# Don't forget to import Gurobi first!\n",
    "\n",
    "# Write code here and print out a solution\n"
   ]
  },
  {
   "cell_type": "markdown",
   "metadata": {},
   "source": [
    "## Traveling Salesman\n",
    "### Question 5\n",
    "Included in this repository is a file called `data.txt` which contains pairs of points corresponding to coordinates (latitude and longitude) of cities you want to visit.\n",
    "\n",
    "Take a look at the file and then load this data into a variable you can manipulate. (*Hint: you may find [this documentation page](https://docs.python.org/3/library/functions.html#open) to be a helpful starting point.*)\n",
    "\n",
    "Find a shortest tour (beginning and ending at the same city) in which you visit each city at least once."
   ]
  },
  {
   "cell_type": "code",
   "execution_count": null,
   "metadata": {},
   "outputs": [],
   "source": []
  }
 ],
 "metadata": {
  "kernelspec": {
   "display_name": "Python 3",
   "language": "python",
   "name": "python3"
  },
  "language_info": {
   "codemirror_mode": {
    "name": "ipython",
    "version": 3
   },
   "file_extension": ".py",
   "mimetype": "text/x-python",
   "name": "python",
   "nbconvert_exporter": "python",
   "pygments_lexer": "ipython3",
   "version": "3.6.4"
  }
 },
 "nbformat": 4,
 "nbformat_minor": 2
}
