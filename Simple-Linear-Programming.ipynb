{
 "cells": [
  {
   "cell_type": "markdown",
   "metadata": {},
   "source": [
    "# Introduction to Linear Programming with Gurobi in Python\n",
    "Begin by running the following code to get the packages we'll need and get things set up:"
   ]
  },
  {
   "cell_type": "code",
   "execution_count": 1,
   "metadata": {},
   "outputs": [
    {
     "name": "stdout",
     "output_type": "stream",
     "text": [
      "Academic license - for non-commercial use only\n"
     ]
    }
   ],
   "source": [
    "from gurobipy import *\n",
    "\n",
    "# This contains the interface for the LP model we'll be creating.\n",
    "m = Model()"
   ]
  },
  {
   "cell_type": "markdown",
   "metadata": {},
   "source": [
    "## Statement of the problem\n",
    "Leather Limited manufactures two types of belts: the deluxe model and the regular model. Each type requires 1 sq yd of leather. A regular belt requires 1 hour of skilled labor, and a deluxe belt requires 2 hours. Each week, 40 sq yd of leather and 60 hours of skilled labor  are  available.  Each  regular  belt  contributes  \\$3  to  profit  and  each  deluxe  belt,  \\$4.\n",
    "\n",
    "---\n",
    "\n",
    "### Step 1 -- Declaring variables\n",
    "We begin by telling the model what variables to expect:"
   ]
  },
  {
   "cell_type": "code",
   "execution_count": 3,
   "metadata": {},
   "outputs": [],
   "source": [
    "# Variable 1: number of regular belts\n",
    "reg = m.addVar(vtype=GRB.INTEGER)\n",
    "# Variable 2: number of deluxe belts\n",
    "dlx = m.addVar(vtype=GRB.INTEGER)\n",
    "\n",
    "# Update model to recognize our new variables\n",
    "m.update()"
   ]
  },
  {
   "cell_type": "markdown",
   "metadata": {},
   "source": [
    "How would we change this to only accept integer values?\n",
    "\n",
    "*Hint: the [Gurobi documentation](https://www.gurobi.com/documentation/8.1/refman/) may be helpful*\n",
    "\n",
    "---\n",
    "### Step 2 -- Introduce Constraints"
   ]
  },
  {
   "cell_type": "code",
   "execution_count": 4,
   "metadata": {},
   "outputs": [
    {
     "data": {
      "text/plain": [
       "<gurobi.Constr *Awaiting Model Update*>"
      ]
     },
     "execution_count": 4,
     "metadata": {},
     "output_type": "execute_result"
    }
   ],
   "source": [
    "# Constraint 1: Leather\n",
    "m.addConstr(reg + dlx <= 40 )\n",
    "# Constraint 2: Labor\n",
    "m.addConstr(reg + 2*dlx <= 60)\n",
    "# Constraint 3/4: Non-Negativity\n",
    "m.addConstr(reg >=0)\n",
    "m.addConstr(dlx >=0)"
   ]
  },
  {
   "cell_type": "markdown",
   "metadata": {},
   "source": [
    "### Step 3 -- Define Objective and Optimize"
   ]
  },
  {
   "cell_type": "code",
   "execution_count": 5,
   "metadata": {},
   "outputs": [
    {
     "name": "stdout",
     "output_type": "stream",
     "text": [
      "Optimize a model with 4 rows, 4 columns and 6 nonzeros\n",
      "Variable types: 2 continuous, 2 integer (0 binary)\n",
      "Coefficient statistics:\n",
      "  Matrix range     [1e+00, 2e+00]\n",
      "  Objective range  [3e+00, 4e+00]\n",
      "  Bounds range     [0e+00, 0e+00]\n",
      "  RHS range        [4e+01, 6e+01]\n",
      "Found heuristic solution: objective 120.0000000\n",
      "Presolve removed 2 rows and 2 columns\n",
      "Presolve time: 0.00s\n",
      "Presolved: 2 rows, 2 columns, 4 nonzeros\n",
      "Variable types: 0 continuous, 2 integer (0 binary)\n",
      "\n",
      "Root relaxation: objective 1.400000e+02, 2 iterations, 0.00 seconds\n",
      "\n",
      "    Nodes    |    Current Node    |     Objective Bounds      |     Work\n",
      " Expl Unexpl |  Obj  Depth IntInf | Incumbent    BestBd   Gap | It/Node Time\n",
      "\n",
      "*    0     0               0     140.0000000  140.00000  0.00%     -    0s\n",
      "\n",
      "Explored 0 nodes (2 simplex iterations) in 0.03 seconds\n",
      "Thread count was 4 (of 4 available processors)\n",
      "\n",
      "Solution count 2: 140 120 \n",
      "\n",
      "Optimal solution found (tolerance 1.00e-04)\n",
      "Best objective 1.400000000000e+02, best bound 1.400000000000e+02, gap 0.0000%\n"
     ]
    }
   ],
   "source": [
    "# Define the objective function\n",
    "m.setObjective(3*reg + 4*dlx, GRB.MAXIMIZE)\n",
    "# Go!\n",
    "m.optimize()"
   ]
  },
  {
   "cell_type": "markdown",
   "metadata": {},
   "source": [
    "### Step 4 -- Interpret the Results"
   ]
  },
  {
   "cell_type": "code",
   "execution_count": 6,
   "metadata": {},
   "outputs": [
    {
     "name": "stdout",
     "output_type": "stream",
     "text": [
      "The optimal numbers are x = 20 and y = 20.\n",
      "The optimal income is 140 dollars.\n"
     ]
    }
   ],
   "source": [
    "# Print out the variables\n",
    "print(\"The optimal numbers are reg = %d and dlx = %d.\" % (reg.x, dlx.x))\n",
    "# Print out the optimal income\n",
    "print(\"The optimal income is %d dollars.\" % m.getAttr('ObjVal'))"
   ]
  },
  {
   "cell_type": "markdown",
   "metadata": {},
   "source": [
    "### (Optional) Step 5 -- Plot the results\n",
    "You can only do this with a small number of variables but it is nice to see what happened in solving our LP problem."
   ]
  },
  {
   "cell_type": "code",
   "execution_count": null,
   "metadata": {},
   "outputs": [],
   "source": [
    "%matplotlib notebook\n",
    "# Don't forget to import your package!\n",
    "import matplotlib.pyplot as pp\n",
    "\n",
    "# Plot Constraints\n",
    "pp.plot(...) # leather\n",
    "pp.plot(...) # labor\n",
    "pp.axhline(...) #horizontal line\n",
    "pp.axvline(...) #vertical line\n",
    "\n",
    "# Plot Solution\n",
    "pp.plot(..., ..., 'ro')\n",
    "pp.show()"
   ]
  },
  {
   "cell_type": "code",
   "execution_count": null,
   "metadata": {},
   "outputs": [],
   "source": []
  }
 ],
 "metadata": {
  "kernelspec": {
   "display_name": "Python 3",
   "language": "python",
   "name": "python3"
  },
  "language_info": {
   "codemirror_mode": {
    "name": "ipython",
    "version": 3
   },
   "file_extension": ".py",
   "mimetype": "text/x-python",
   "name": "python",
   "nbconvert_exporter": "python",
   "pygments_lexer": "ipython3",
   "version": "3.6.4"
  }
 },
 "nbformat": 4,
 "nbformat_minor": 2
}
