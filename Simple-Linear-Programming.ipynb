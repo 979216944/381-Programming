{
 "cells": [
  {
   "cell_type": "markdown",
   "metadata": {},
   "source": [
    "# Introduction to Linear Programming with Gurobi in Python\n",
    "Begin by running the following code to get the packages we'll need and get things set up:"
   ]
  },
  {
   "cell_type": "code",
   "execution_count": null,
   "metadata": {},
   "outputs": [],
   "source": [
    "from gurobipy import *\n",
    "\n",
    "# This contains the interface for the LP model we'll be creating.\n",
    "m = Model()"
   ]
  },
  {
   "cell_type": "markdown",
   "metadata": {},
   "source": [
    "## Statement of the problem\n",
    "Leather Limited manufactures two types of belts: the deluxe model and the regular model. Each type requires 1 sq yd of leather. A regular belt requires 1 hour of skilled labor, and a deluxe belt requires 2 hours. Each week, 40 sq yd of leather and 60 hours of skilled labor  are  available.  Each  regular  belt  contributes  \\$3  to  profit  and  each  deluxe  belt,  \\$4.\n",
    "\n",
    "---\n",
    "\n",
    "### Step 1 -- Declaring variables\n",
    "We begin by telling the model what variables to expect:"
   ]
  },
  {
   "cell_type": "code",
   "execution_count": null,
   "metadata": {},
   "outputs": [],
   "source": [
    "# Variable 1: number of regular belts\n",
    "... = m.addVar()\n",
    "# Variable 2: number of deluxe belts\n",
    "... = m.addVar()\n",
    "\n",
    "# Update model to recognize our new variables\n",
    "m.update()"
   ]
  },
  {
   "cell_type": "markdown",
   "metadata": {},
   "source": [
    "How would we change this to only accept integer values?\n",
    "\n",
    "*Hint: the [Gurobi documentation](https://www.gurobi.com/documentation/8.1/refman/) may be helpful*\n",
    "\n",
    "---\n",
    "### Step 2 -- Introduce Constraints"
   ]
  },
  {
   "cell_type": "code",
   "execution_count": null,
   "metadata": {},
   "outputs": [],
   "source": [
    "# Constraint 1: Leather\n",
    "m.addConstr(...)\n",
    "# Constraint 2: Labor\n",
    "m.addConstr(...)\n",
    "# Constraint 3/4: Non-Negativity\n",
    "m.addConstr(...)\n",
    "m.addConstr(...)"
   ]
  },
  {
   "cell_type": "markdown",
   "metadata": {},
   "source": [
    "### Step 3 -- Define Objective and Optimize"
   ]
  },
  {
   "cell_type": "code",
   "execution_count": null,
   "metadata": {},
   "outputs": [],
   "source": [
    "# Define the objective function\n",
    "m.setObjective(...)\n",
    "# Go!\n",
    "m.optimize()"
   ]
  },
  {
   "cell_type": "markdown",
   "metadata": {},
   "source": [
    "### Step 4 -- Interpret the Results"
   ]
  },
  {
   "cell_type": "code",
   "execution_count": null,
   "metadata": {},
   "outputs": [],
   "source": [
    "# Print out the variables\n",
    "print(\"The optimal numbers are x = %d and y = %d.\" % ...)\n",
    "# Print out the optimal income\n",
    "print(\"The optimal income is %d dollars.\" % ...)"
   ]
  },
  {
   "cell_type": "markdown",
   "metadata": {},
   "source": [
    "### (Optional) Step 5 -- Plot the results\n",
    "You can only do this with a small number of variables but it is nice to see what happened in solving our LP problem."
   ]
  },
  {
   "cell_type": "code",
   "execution_count": null,
   "metadata": {},
   "outputs": [],
   "source": [
    "%matplotlib notebook\n",
    "# Don't forget to import your package!\n",
    "import matplotlib.pyplot as pp\n",
    "\n",
    "# Plot Constraints\n",
    "pp.plot(...) # leather\n",
    "pp.plot(...) # labor\n",
    "pp.axhline(...) #horizontal line\n",
    "pp.axvline(...) #vertical line\n",
    "\n",
    "# Plot Solution\n",
    "pp.plot(..., ..., 'ro')\n",
    "pp.show()"
   ]
  },
  {
   "cell_type": "code",
   "execution_count": null,
   "metadata": {},
   "outputs": [],
   "source": []
  }
 ],
 "metadata": {
  "kernelspec": {
   "display_name": "Python 3",
   "language": "python",
   "name": "python3"
  },
  "language_info": {
   "codemirror_mode": {
    "name": "ipython",
    "version": 3
   },
   "file_extension": ".py",
   "mimetype": "text/x-python",
   "name": "python",
   "nbconvert_exporter": "python",
   "pygments_lexer": "ipython3",
   "version": "3.6.4"
  }
 },
 "nbformat": 4,
 "nbformat_minor": 2
}
