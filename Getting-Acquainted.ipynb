{
 "cells": [
  {
   "cell_type": "markdown",
   "metadata": {},
   "source": [
    "# Welcome to the MATH 381 introduction to Python and Jupyter\n",
    "This is an interactive page where you can play with your new Python and Gurobi installation. You can type code into the boxes below and execute them using `<ctrl> + <enter>`. The output for the code you ran will display beneath the current box.\n",
    "\n",
    "If you see an error **not to worry!** You can go back and edit the code in any box and hit `<ctrl> + <enter>` to run it again. Any message that had appeared will go away and be replaced with the new output (if any).\n",
    "\n",
    "---\n",
    "\n",
    "## Where to get help\n",
    "If you run into trouble when coding Python not to worry! One of the best aspects of this language is that it is widely used and documented so you can find tons of resources online to help you:\n",
    "* [The Python Documentation](https://docs.python.org/3/) is the official source for everything Python. The documentation has lots of examples in case that appeals to you (like it does to me!).\n",
    "* [StackOverflow](https://stackoverflow.com/questions/tagged/python) is a great site where people have probably asked the same questions you are asking. Usually I don't find myself using this site directly but it often comes up when I use...\n",
    "* [DuckDuckGo](https://duckduckgo.com) (or [Google!](https://google.com) or [Bing](https://bing.com), I suppose) You know what it is. It'll get you what you need. Often it is as simple as cutting and pasting an error message directly into the search bar.\n",
    "\n",
    "If you are still having trouble with something come talk to me in office hours or find a friend who has some coding experience."
   ]
  },
  {
   "cell_type": "markdown",
   "metadata": {},
   "source": [
    "---\n",
    "\n",
    "## Introduction to Python\n",
    "We will begin by doing some simple execution with Python. Python is a relatively intuitive language, so you pretty much just have to type what you want it to do. \n",
    "\n",
    "Try executing the following commands and seeing what the output is. Feel free to change the numbers and see what happens.\n",
    "\n",
    "*Remember that if your code doesn't output anything there will be nothing printed. That doesn't mean it didn't run!*"
   ]
  },
  {
   "cell_type": "code",
   "execution_count": null,
   "metadata": {},
   "outputs": [],
   "source": [
    "x = (1 + 2 * 100) / 3 # Click in this box and hit <ctrl> + <enter> \n",
    "                            #(or 'Run' in the toolbar above) to store the value in x."
   ]
  },
  {
   "cell_type": "code",
   "execution_count": null,
   "metadata": {},
   "outputs": [],
   "source": [
    "print(x) # This will print the value you computed above"
   ]
  },
  {
   "cell_type": "code",
   "execution_count": null,
   "metadata": {},
   "outputs": [],
   "source": [
    "y = 14 / 3\n",
    "print(x + y)"
   ]
  },
  {
   "cell_type": "markdown",
   "metadata": {},
   "source": [
    "Notice that variables are stored across the entire notebook! You can declare a variable in one cell (even one that is further down the page!) and then use the value from that variable in any other cell. This can be disorienting at first, but it is useful to think of this notebook as a single program whose state jumps around to the last cell you executed."
   ]
  },
  {
   "cell_type": "markdown",
   "metadata": {},
   "source": [
    "---\n",
    "\n",
    "### Functions and code blocks\n",
    "You don't need a nuanced understanding of this to use Python for this class but you need to know the basics.\n",
    "\n",
    "Python separates logical groups of code by using **whitespace**. This means that you need to use indentation (or spaces) to designate that certain code needs to be grouped together.\n",
    "\n",
    "For instance, let's say I wanted to define a function that takes in two parameters and prints out their values in a nice way. The following does that:"
   ]
  },
  {
   "cell_type": "code",
   "execution_count": null,
   "metadata": {},
   "outputs": [],
   "source": [
    "def printNice(a,b):\n",
    "    # This is a fancy way to substitute values into a string in Python which makes output a little nicer.\n",
    "    # You can view the Python documentation of this at \n",
    "    # https://docs.python.org/3/library/stdtypes.html#printf-style-string-formatting\n",
    "    s = \"The first value you gave was %s and the second was %s\" % (a,b)\n",
    "    \n",
    "    print(s)"
   ]
  },
  {
   "cell_type": "markdown",
   "metadata": {},
   "source": [
    "Then if we want to call that function later, we can just run"
   ]
  },
  {
   "cell_type": "code",
   "execution_count": null,
   "metadata": {},
   "outputs": [],
   "source": [
    "printNice(10000101011, \"Apple\")"
   ]
  },
  {
   "cell_type": "markdown",
   "metadata": {},
   "source": [
    "If you got an error that reads\n",
    "```NameError: name 'printNice' is not defined```\n",
    "make sure to run the cell where we defined `printNice` **before** you try to call it!\n",
    "\n",
    "What happens if you aren't careful with whitespace? Below shows you how to do a `for` loop in Python but I've put a bug in it so it throws an error. \n",
    "\n",
    "Can you figure out how to fix it to output the correct value?"
   ]
  },
  {
   "cell_type": "code",
   "execution_count": null,
   "metadata": {
    "scrolled": true
   },
   "outputs": [],
   "source": [
    "# Should print out 0+1+2+3+4=10\n",
    "def printSum():\n",
    "    # Set total to have the initial value of 0\n",
    "    total=0\n",
    "    \n",
    "    # Loop through and repeat for each i=0,1,2,3,4\n",
    "    for i in range(5):\n",
    "        # Add the value of i to total. This is shorthand for 'total = total + i'\n",
    "        total += i\n",
    "        \n",
    "# Print out the final value after the loop above has completed.\n",
    "print(total)\n",
    "\n",
    "# Call the function we just defined.\n",
    "printSum()"
   ]
  },
  {
   "cell_type": "markdown",
   "metadata": {},
   "source": [
    "Notice that Python automatically tries to point you to the line where the error occurs. Most of the time the errors are relatively clear, so look closely at error output and it may help you figure out where things went wrong.\n",
    "\n",
    "There are actually three different indentation levels in this program corresponding to\n",
    "* The outer program\n",
    "    * The `badFunc` definition\n",
    "        * The `for` loop\n",
    "\n",
    "It is possible to add the incorrect amount of whitespace in the above program and make it print out something like\n",
    "```\n",
    "0\n",
    "1\n",
    "3\n",
    "6\n",
    "10```\n",
    "Can you figure out how? What do these numbers represent?"
   ]
  },
  {
   "cell_type": "markdown",
   "metadata": {},
   "source": [
    "---\n",
    "\n",
    "### Python Lists\n",
    "[Lists (see the Python documentation)](https://docs.python.org/3/library/stdtypes.html#list) are a very powerful and ubiquitous data structure and are probably one of the most commonly used in day-to-day coding. It gives you a way to have a single object (a list) that contains an arbitrary number of entries.\n",
    "\n",
    "Below are some examples of lists and common operations you can do with them. See if you can understand what is happening and try manipulating some of the lists (or creating your own!):"
   ]
  },
  {
   "cell_type": "code",
   "execution_count": null,
   "metadata": {},
   "outputs": [],
   "source": [
    "# You can create a list explicitly\n",
    "# A \n",
    "fruits = ['apple', 'banana', 'pear']\n",
    "\n",
    "# This is called a list comprehension and can save you time down the road\n",
    "# https://docs.python.org/3/tutorial/datastructures.html#list-comprehensions\n",
    "digits = [x for x in range(10)]\n",
    "\n",
    "# You can do more complicated things with list comprehensions too!\n",
    "# This one essentially creates the Cartesian product of the two lists above.\n",
    "pairs = [(fruit, number) for fruit in fruits for number in digits]\n",
    "\n",
    "# This is a list of lists!\n",
    "lists = [fruits, digits, pairs]\n",
    "\n",
    "i = 1\n",
    "# for iterates through all the \n",
    "for lst in lists:\n",
    "    s = \"List %d is: %s\\n\" % (i, lst)\n",
    "    print(s)\n",
    "    i += 1"
   ]
  },
  {
   "cell_type": "markdown",
   "metadata": {},
   "source": [
    "The following operations all are working on the lists above.\n",
    "\n",
    "Try to figure out what will print out before running the code below."
   ]
  },
  {
   "cell_type": "code",
   "execution_count": null,
   "metadata": {},
   "outputs": [],
   "source": [
    "############ DEFINE FUNCTION TO USE BELOW ##################\n",
    "# Tom just loves to eat things in lists\n",
    "# Be careful! He HATES lemons.\n",
    "def tomEats(lst):\n",
    "    for x in lst:\n",
    "        if x == 'lemon':\n",
    "            print('TOM HATES LEMONS.')\n",
    "        else:\n",
    "            print(\"Tom loves to eat %ss.\" % x)\n",
    "##############################################################\n",
    "\n",
    "# Tom eats fruit\n",
    "tomEats(fruits)\n"
   ]
  },
  {
   "cell_type": "code",
   "execution_count": null,
   "metadata": {},
   "outputs": [],
   "source": [
    "# He also loves plums! Add that to the fruits list\n",
    "#\n",
    "# This is a simple test to see whether the string 'plum' is in the list already.\n",
    "if 'plum' not in fruits:\n",
    "    fruits.append('plum')\n",
    "tomEats(fruits)"
   ]
  },
  {
   "cell_type": "code",
   "execution_count": null,
   "metadata": {},
   "outputs": [],
   "source": [
    "# What are your feeling about lemons, Tom?\n",
    "if 'lemon' not in fruits:\n",
    "    fruits.append('lemon')\n",
    "tomEats(fruits)"
   ]
  },
  {
   "cell_type": "code",
   "execution_count": null,
   "metadata": {},
   "outputs": [],
   "source": [
    "# Apparently he eats numbers as well\n",
    "tomEats(digits)"
   ]
  },
  {
   "cell_type": "code",
   "execution_count": null,
   "metadata": {},
   "outputs": [],
   "source": [
    "# He is sometimes a bit odd\n",
    "odds = [x for x in digits if x % 2 == 1]\n",
    "tomEats(odds)"
   ]
  },
  {
   "cell_type": "code",
   "execution_count": null,
   "metadata": {},
   "outputs": [],
   "source": [
    "# You can also access the elements of a list directly.\n",
    "# Notice that (as is usual in programming languages) Python lists are zero-indexed.\n",
    "#     This means that if you want the nth entry, it will be stored in the (n-1)st index.\n",
    "\n",
    "print(fruits[1])   # Prints the SECOND entry in fruits\n",
    "print(digits[3])   # Since we stored '0' in the first spot, it exactly what you would think\n",
    "print(pairs[3][0]) # Prints the first half of the fourth pair in pairs.\n",
    "                        #The second set of brackets pulls out the first entry in the pair/tuple -- see below."
   ]
  },
  {
   "cell_type": "markdown",
   "metadata": {},
   "source": [
    "### Tuples\n",
    "You may have noticed that the elements of `pairs` above look like `(x,y)`. These are called \"tuples\" (generalizing the pattern: pairs, triples, quadruples, quintuples, hextuples, heptuples, etc). They are very similar to lists except they are a bit more rigid. You can't add a new entry to a tuple or change any of its values -- they are *immutable*.\n",
    "\n",
    "The nice thing about them is they can help guarantee that your data will have a particular \"shape\". Below is an example of how to read them off and get into the juicy insides:"
   ]
  },
  {
   "cell_type": "code",
   "execution_count": null,
   "metadata": {},
   "outputs": [],
   "source": [
    "# This loop iterates through all the tuples and then pulls them apart\n",
    "for pair in pairs:\n",
    "    # We only care if the fruit was a pear (not a pair)\n",
    "    if pair[0] == 'pear':\n",
    "        print(\"I found a pear! The digit that was paired with it was %d.\" % pair[1])"
   ]
  },
  {
   "cell_type": "code",
   "execution_count": null,
   "metadata": {},
   "outputs": [],
   "source": [
    "# This loop grabs the fruit and digit separately and makes code a bit easier to read\n",
    "for (fruit, digit) in pairs:\n",
    "    # This time we only care if the digit is larger than 7\n",
    "    if digit > 7:\n",
    "        print(\"The digit %d was greater than 7. The fruit was %s.\" % (digit, fruit))"
   ]
  },
  {
   "cell_type": "markdown",
   "metadata": {},
   "source": [
    "---\n",
    "## Idioms and Packages you'll see in this course\n",
    "### Imports and Jupyter settings\n",
    "* The line below tells Python what libraries (think collections of functions) that we want to have accessible\n",
    "* When you run the line below, nothing will print. But this will make it so that we can use the resources in these packages later on.\n",
    "* I will include files like this at the top of the notebook files I give you. These will not require you to fiddle with them, although you will have to run them when you open the notebook.\n",
    "\n",
    "**Go ahead and execute the cell below now**"
   ]
  },
  {
   "cell_type": "code",
   "execution_count": null,
   "metadata": {},
   "outputs": [],
   "source": [
    "# These comments aren't vital to read and understand but they are here in case you are curious.\n",
    "# This tells pyplot to display plots right here in the notebook\n",
    "%matplotlib notebook\n",
    "\n",
    "# The package matplotlib.pyplot contains a set of simple plotting tools useful for visualizing data.\n",
    "# Here we tell the interpreter to let us refer to it as 'pyplot' instead of its full name 'matplotlib.pyplot'\n",
    "import matplotlib.pyplot as pyplot\n",
    "# This is the interface for the Gurobi solver. The asterisk means \"import all functions under this package\".\n",
    "from gurobipy import *\n",
    "# The math package contains lots of useful functions and constants like math.factorial() and math.PI.\n",
    "import math"
   ]
  },
  {
   "cell_type": "markdown",
   "metadata": {},
   "source": [
    "### If you got any errors when executing the above line\n",
    "Make sure you followed the instructions when installing Anaconda and Gurobi. The packages above should all be available to you if that process was successful. If not, come talk to me in office hours and we'll try to get it fixed."
   ]
  },
  {
   "cell_type": "markdown",
   "metadata": {},
   "source": [
    "---\n",
    "### PyPlot\n",
    "PyPlot has a ton of nice features you can read about [here](https://matplotlib.org/users/pyplot_tutorial.html). You can use them to get some nice plots of your data to help with visualizations of statistics, etc. \n",
    "\n",
    "I will only give a brief introduction here:"
   ]
  },
  {
   "cell_type": "code",
   "execution_count": null,
   "metadata": {
    "scrolled": false
   },
   "outputs": [],
   "source": [
    "# This command puts a new set of points on the plot\n",
    "# By default it will keep chaning the colors for each set of points you add\n",
    "# Format: pyplot.plot([x-vals], [y-vals])\n",
    "pyplot.plot([0,2], [0,3])\n",
    "pyplot.plot([0,2], [2,1])\n",
    "\n",
    "# This displays the current plot\n",
    "pyplot.show()"
   ]
  },
  {
   "cell_type": "code",
   "execution_count": null,
   "metadata": {},
   "outputs": [],
   "source": [
    "# This closes the last plot so that we can create a new plot below\n",
    "pyplot.close()\n",
    "\n",
    "# You can also define a function and plot its values\n",
    "def f(x):\n",
    "    return math.log(x)\n",
    "\n",
    "# x-values 1 through 20\n",
    "xs = range(1,21)\n",
    "ys = [f(x) for x in xs]\n",
    "\n",
    "# Then plot the function on a provided domain\n",
    "# pyplot interpolates between the given points to estimate the curve (unless told otherwise)\n",
    "pyplot.plot(xs, ys)\n",
    "pyplot.show()"
   ]
  }
 ],
 "metadata": {
  "kernelspec": {
   "display_name": "Python 3",
   "language": "python",
   "name": "python3"
  },
  "language_info": {
   "codemirror_mode": {
    "name": "ipython",
    "version": 3
   },
   "file_extension": ".py",
   "mimetype": "text/x-python",
   "name": "python",
   "nbconvert_exporter": "python",
   "pygments_lexer": "ipython3",
   "version": "3.6.4"
  }
 },
 "nbformat": 4,
 "nbformat_minor": 2
}
